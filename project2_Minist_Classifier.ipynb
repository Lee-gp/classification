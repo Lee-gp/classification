{
  "nbformat": 4,
  "nbformat_minor": 0,
  "metadata": {
    "kernelspec": {
      "display_name": "Python 3",
      "language": "python",
      "name": "python3"
    },
    "language_info": {
      "codemirror_mode": {
        "name": "ipython",
        "version": 3
      },
      "file_extension": ".py",
      "mimetype": "text/x-python",
      "name": "python",
      "nbconvert_exporter": "python",
      "pygments_lexer": "ipython3",
      "version": "3.7.3"
    },
    "colab": {
      "name": "project2_Minist_Classifier.ipynb",
      "provenance": [],
      "collapsed_sections": [],
      "include_colab_link": true
    }
  },
  "cells": [
    {
      "cell_type": "markdown",
      "metadata": {
        "id": "view-in-github",
        "colab_type": "text"
      },
      "source": [
        "<a href=\"https://colab.research.google.com/github/Lee-gp/classification/blob/main/project2_Minist_Classifier.ipynb\" target=\"_parent\"><img src=\"https://colab.research.google.com/assets/colab-badge.svg\" alt=\"Open In Colab\"/></a>"
      ]
    },
    {
      "cell_type": "code",
      "metadata": {
        "id": "DPvtQKxAiwwT"
      },
      "source": [
        "from sklearn.model_selection import train_test_split\n",
        "from sklearn import preprocessing\n",
        "from sklearn.metrics import accuracy_score\n",
        "from sklearn.datasets import load_digits\n",
        "import matplotlib.pyplot as plt\n",
        "import numpy as np"
      ],
      "execution_count": 1,
      "outputs": []
    },
    {
      "cell_type": "code",
      "metadata": {
        "id": "4xxfSjpSiwwU"
      },
      "source": [
        "# 加载数据\n",
        "digits = load_digits()\n",
        "data = digits.data"
      ],
      "execution_count": 2,
      "outputs": []
    },
    {
      "cell_type": "code",
      "metadata": {
        "colab": {
          "base_uri": "https://localhost:8080/"
        },
        "id": "y9aqmit4iwwU",
        "outputId": "3ca5089b-1cc4-4869-fe99-0ddd4fa7f327"
      },
      "source": [
        "# 数据探索\n",
        "data.shape"
      ],
      "execution_count": 3,
      "outputs": [
        {
          "output_type": "execute_result",
          "data": {
            "text/plain": [
              "(1797, 64)"
            ]
          },
          "metadata": {
            "tags": []
          },
          "execution_count": 3
        }
      ]
    },
    {
      "cell_type": "code",
      "metadata": {
        "colab": {
          "base_uri": "https://localhost:8080/"
        },
        "id": "A4RMBmB5iwwW",
        "outputId": "fadada94-1ee3-4309-9e54-81c8a309a7cc"
      },
      "source": [
        "# 查看第一幅图及其含义\n",
        "print(digits.images[0])\n",
        "print(digits.target[0])"
      ],
      "execution_count": 4,
      "outputs": [
        {
          "output_type": "stream",
          "text": [
            "[[ 0.  0.  5. 13.  9.  1.  0.  0.]\n",
            " [ 0.  0. 13. 15. 10. 15.  5.  0.]\n",
            " [ 0.  3. 15.  2.  0. 11.  8.  0.]\n",
            " [ 0.  4. 12.  0.  0.  8.  8.  0.]\n",
            " [ 0.  5.  8.  0.  0.  9.  8.  0.]\n",
            " [ 0.  4. 11.  0.  1. 12.  7.  0.]\n",
            " [ 0.  2. 14.  5. 10. 12.  0.  0.]\n",
            " [ 0.  0.  6. 13. 10.  0.  0.  0.]]\n",
            "0\n"
          ],
          "name": "stdout"
        }
      ]
    },
    {
      "cell_type": "code",
      "metadata": {
        "colab": {
          "base_uri": "https://localhost:8080/",
          "height": 265
        },
        "id": "9qgVVa-bzgb8",
        "outputId": "e1683fc6-f05f-44cf-ba97-f4f709afa96b"
      },
      "source": [
        "#查看target的分布情况\n",
        "unique,count = np.unique(digits.target,return_counts= True)\n",
        "unique_count = dict(zip(unique,count))\n",
        "# print(unique_count)\n",
        "plt.bar(unique,unique_count.values())\n",
        "plt.show()"
      ],
      "execution_count": 5,
      "outputs": [
        {
          "output_type": "display_data",
          "data": {
            "image/png": "[encoded data removed]",
            "text/plain": [
              "<Figure size 432x288 with 1 Axes>"
            ]
          },
          "metadata": {
            "tags": [],
            "needs_background": "light"
          }
        }
      ]
    },
    {
      "cell_type": "code",
      "metadata": {
        "colab": {
          "base_uri": "https://localhost:8080/",
          "height": 281
        },
        "id": "t000z0kBiwwX",
        "outputId": "b0a069bd-e1a8-4459-ddbb-2d9e9dc8820e"
      },
      "source": [
        "# 将第一幅图显示出来\n",
        "plt.gray()\n",
        "plt.title('Handwritten Digits')\n",
        "plt.imshow(digits.images[0])\n",
        "plt.show()"
      ],
      "execution_count": 6,
      "outputs": [
        {
          "output_type": "display_data",
          "data": {
            "image/png": "[encoded data removed]",
            "text/plain": [
              "<Figure size 432x288 with 1 Axes>"
            ]
          },
          "metadata": {
            "tags": [],
            "needs_background": "light"
          }
        }
      ]
    },
    {
      "cell_type": "code",
      "metadata": {
        "id": "z9vl9pIwiwwX"
      },
      "source": [
        "# 分割数据集，将25作为测试集，其余作为训练集\n",
        "train_X,test_X,train_y,test_y = train_test_split(data,digits.target,test_size = 0.25,random_state = 33)"
      ],
      "execution_count": 7,
      "outputs": []
    },
    {
      "cell_type": "code",
      "metadata": {
        "id": "YJMzW2vliwwX"
      },
      "source": [
        "# 采用Z-Score规范化\n",
        "ss = preprocessing.StandardScaler()\n",
        "train_ss_x = ss.fit_transform(train_X)\n",
        "test_ss_x = ss.transform(test_X)"
      ],
      "execution_count": 8,
      "outputs": []
    },
    {
      "cell_type": "code",
      "metadata": {
        "colab": {
          "base_uri": "https://localhost:8080/"
        },
        "id": "9ynZWSvWiwwX",
        "outputId": "d9d0554a-2d38-4369-a1d2-d5742eb36910"
      },
      "source": [
        "# 使用LR预测\n",
        "from sklearn.linear_model import LogisticRegression\n",
        "\n",
        "lr = LogisticRegression()\n",
        "lr.fit(train_ss_x,train_y)\n",
        "predict_y = lr.predict(test_ss_x)\n",
        "#print(predict_y)\n",
        "#print(lr.coef_)\n",
        "#print(len(lr.coef_))\n",
        "print('LR的准确率：%.4lf'%accuracy_score(predict_y,test_y))"
      ],
      "execution_count": 9,
      "outputs": [
        {
          "output_type": "stream",
          "text": [
            "LR的准确率：0.9644\n"
          ],
          "name": "stdout"
        }
      ]
    },
    {
      "cell_type": "code",
      "metadata": {
        "colab": {
          "base_uri": "https://localhost:8080/"
        },
        "id": "T5KHRdpPjV3J",
        "outputId": "c9222d26-da68-4cc5-dbaf-6cf9459eaadb"
      },
      "source": [
        "# 使用decisiontree预测\n",
        "from sklearn.tree import DecisionTreeClassifier\n",
        "from sklearn.model_selection import GridSearchCV,cross_val_score\n",
        "\n",
        "#建立模型\n",
        "cart = DecisionTreeClassifier()\n",
        "#使用GridSearchCV寻找模型参数\n",
        "max_depth = range(1,100,1)\n",
        "min_samples_leaf = (1,40,2)\n",
        "min_samples_split = (2,40,2)\n",
        "criterion = [\"gini\",\"entropy\"]\n",
        "splitter = [\"best\"]\n",
        "max_features = [None]\n",
        "tuned_parameters = dict(max_depth=max_depth,\n",
        "             min_samples_leaf=min_samples_leaf,\n",
        "             min_samples_split=min_samples_split,\n",
        "             criterion=criterion,\n",
        "             max_features=max_features,\n",
        "             splitter=splitter)\n",
        "\n",
        "cart_model = GridSearchCV(cart,tuned_parameters,cv=10)\n",
        "cart_model.fit(train_ss_x,train_y)\n",
        "# 使用模型预测并评分\n",
        "predict_y = cart_model.predict(test_ss_x)\n",
        "score = accuracy_score(predict_y,test_y)\n",
        "print('决策树预测准确率：%.4lf'%score)"
      ],
      "execution_count": 10,
      "outputs": [
        {
          "output_type": "stream",
          "text": [
            "决策树预测准确率：0.8356\n"
          ],
          "name": "stdout"
        }
      ]
    },
    {
      "cell_type": "code",
      "metadata": {
        "id": "R3X23n2PBuGt",
        "colab": {
          "base_uri": "https://localhost:8080/"
        },
        "outputId": "0772c2a8-d5c1-4785-86cf-7a907ae276dc"
      },
      "source": [
        "#使用keras预测\n",
        "import tensorflow as tf\n",
        "print(tf.__version__)\n",
        "from tensorflow.keras import layers\n",
        "from tensorflow.keras.datasets import mnist\n",
        "from tensorflow.keras.layers import Conv2D, MaxPooling2D\n",
        "from tensorflow.keras.layers import Dense, Flatten\n",
        "from tensorflow.keras.models import Sequential\n",
        "import numpy as np\n",
        "\n",
        "# 数据加载\n",
        "(train_x, train_y), (test_x, test_y) = mnist.load_data() #从网上下载数据集\n",
        "\n",
        "# 输入数据为 mnist 数据集\n",
        "train_x = train_x.reshape(train_x.shape[0], 28, 28, 1)\n",
        "test_x = test_x.reshape(test_x.shape[0], 28, 28, 1)\n",
        "train_x = train_x / 255\n",
        "test_x = test_x / 255\n",
        "train_y = tf.keras.utils.to_categorical(train_y, 10)\n",
        "test_y = tf.keras.utils.to_categorical(test_y, 10)\n",
        "# 创建序贯模型\n",
        "model = Sequential()\n",
        "# 第一层卷积层：6个卷积核，大小为5∗5, relu激活函数\n",
        "model.add(Conv2D(6, kernel_size=(5, 5), activation='relu', input_shape=(28, 28, 1)))\n",
        "# 第二层池化层：最大池化\n",
        "model.add(MaxPooling2D(pool_size=(2, 2)))\n",
        "# 第三层卷积层：16个卷积核，大小为5*5，relu激活函数\n",
        "model.add(Conv2D(16, kernel_size=(5, 5), activation='relu'))\n",
        "# 第四层池化层：最大池化\n",
        "model.add(MaxPooling2D(pool_size=(2, 2)))\n",
        "# 将参数进行扁平化\n",
        "model.add(Flatten())\n",
        "model.add(Dense(120, activation='relu'))\n",
        "# 全连接层，输出节点个数为84个\n",
        "model.add(Dense(84, activation='relu'))\n",
        "# 输出层 用softmax 激活函数计算分类概率\n",
        "model.add(Dense(10, activation='softmax'))\n",
        "# 设置损失函数和优化器配置\n",
        "model.compile(loss=tf.keras.metrics.categorical_crossentropy, optimizer=tf.keras.optimizers.Adam(), metrics=['accuracy'])\n",
        "# 传入训练数据进行训练\n",
        "model.fit(train_x, train_y, batch_size=128, epochs=2, verbose=1, validation_data=(test_x, test_y))\n",
        "# 对结果进行评估\n",
        "score = model.evaluate(test_x, test_y)\n",
        "print('误差:%0.4lf' %score[0])\n",
        "print('准确率:', score[1])"
      ],
      "execution_count": 11,
      "outputs": [
        {
          "output_type": "stream",
          "text": [
            "2.3.0\n",
            "Downloading data from https://storage.googleapis.com/tensorflow/tf-keras-datasets/mnist.npz\n",
            "11493376/11490434 [==============================] - 0s 0us/step\n",
            "Epoch 1/2\n",
            "469/469 [==============================] - 22s 47ms/step - loss: 0.3116 - accuracy: 0.9072 - val_loss: 0.0992 - val_accuracy: 0.9703\n",
            "Epoch 2/2\n",
            "469/469 [==============================] - 22s 47ms/step - loss: 0.0876 - accuracy: 0.9729 - val_loss: 0.0601 - val_accuracy: 0.9811\n",
            "313/313 [==============================] - 2s 7ms/step - loss: 0.0601 - accuracy: 0.9811\n",
            "误差:0.0601\n",
            "准确率: 0.9811000227928162\n"
          ],
          "name": "stdout"
        }
      ]
    },
    {
      "cell_type": "code",
      "metadata": {
        "id": "Wis9ULHlF3ab"
      },
      "source": [
        ""
      ],
      "execution_count": null,
      "outputs": []
    }
  ]
}