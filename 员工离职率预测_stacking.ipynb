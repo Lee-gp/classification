{
  "nbformat": 4,
  "nbformat_minor": 0,
  "metadata": {
    "kernelspec": {
      "display_name": "Python 3",
      "language": "python",
      "name": "python3"
    },
    "language_info": {
      "codemirror_mode": {
        "name": "ipython",
        "version": 3
      },
      "file_extension": ".py",
      "mimetype": "text/x-python",
      "name": "python",
      "nbconvert_exporter": "python",
      "pygments_lexer": "ipython3",
      "version": "3.7.3"
    },
    "colab": {
      "name": "员工离职率预测_stacking.ipynb",
      "provenance": [],
      "collapsed_sections": [],
      "include_colab_link": true
    }
  },
  "cells": [
    {
      "cell_type": "markdown",
      "metadata": {
        "id": "view-in-github",
        "colab_type": "text"
      },
      "source": [
        "<a href=\"https://colab.research.google.com/github/Lee-gp/classification/blob/main/%E5%91%98%E5%B7%A5%E7%A6%BB%E8%81%8C%E7%8E%87%E9%A2%84%E6%B5%8B_stacking.ipynb\" target=\"_parent\"><img src=\"https://colab.research.google.com/assets/colab-badge.svg\" alt=\"Open In Colab\"/></a>"
      ]
    },
    {
      "cell_type": "code",
      "metadata": {
        "id": "L2JNaRgDnRWa"
      },
      "source": [
        "import pandas as pd\n",
        "import numpy as np\n",
        "from sklearn.model_selection import train_test_split\n",
        "from sklearn.metrics import roc_auc_score,accuracy_score\n",
        "import seaborn as sns\n",
        "import matplotlib.pyplot as plt\n",
        "import time,datetime\n",
        "from sklearn.model_selection import GridSearchCV,cross_val_score\n",
        "from sklearn import metrics\n",
        "import warnings\n",
        "\n",
        "warnings.filterwarnings('ignore')\n",
        "%matplotlib inline"
      ],
      "execution_count": 1,
      "outputs": []
    },
    {
      "cell_type": "code",
      "metadata": {
        "colab": {
          "base_uri": "https://localhost:8080/"
        },
        "id": "l0Mgxa8KnRWb",
        "outputId": "9f434063-6e5c-471e-ebc3-df7876057329"
      },
      "source": [
        "#数据加载\n",
        "from google.colab import drive\n",
        "import os\n",
        "drive.mount(\"/content/drive\")\n",
        "os.chdir(\"/content/drive/My Drive/Colab Notebooks/BI_core_L1\")\n",
        "\n",
        "train = pd.read_csv('./lz_train.csv')\n",
        "test = pd.read_csv('./lz_test.csv')\n",
        "#准备提交数据\n",
        "submit2 = pd.DataFrame(test['user_id'])\n",
        "#查看标签\n",
        "print(train['Attrition'].value_counts())\n",
        "#标签字段labelEncoder\n",
        "train['Attrition']= train['Attrition'].map(lambda x:1 if x == 'Yes' else 0)"
      ],
      "execution_count": 2,
      "outputs": [
        {
          "output_type": "stream",
          "text": [
            "Drive already mounted at /content/drive; to attempt to forcibly remount, call drive.mount(\"/content/drive\", force_remount=True).\n",
            "No     988\n",
            "Yes    188\n",
            "Name: Attrition, dtype: int64\n"
          ],
          "name": "stdout"
        }
      ]
    },
    {
      "cell_type": "code",
      "metadata": {
        "id": "yv_YhPEKnRWf"
      },
      "source": [
        "#查看是否有空值\n",
        "# print(train.isna().sum())\n",
        "# train.head()"
      ],
      "execution_count": 3,
      "outputs": []
    },
    {
      "cell_type": "code",
      "metadata": {
        "id": "dfFndVPhnRWf"
      },
      "source": [
        "#查看特征取值情况\n",
        "# for c in train.columns:\n",
        "#     print(train[c].value_counts())"
      ],
      "execution_count": 4,
      "outputs": []
    },
    {
      "cell_type": "code",
      "metadata": {
        "id": "CgVJ9V_JnRWf"
      },
      "source": [
        "#去掉没有用的列，员工编号，员工工时,大于18岁,员工数量\n",
        "train = train.drop(['EmployeeNumber','StandardHours','Over18','EmployeeCount','user_id'],axis = 1)\n",
        "test = test.drop(['EmployeeNumber','StandardHours','Over18','EmployeeCount','user_id'],axis = 1)"
      ],
      "execution_count": 5,
      "outputs": []
    },
    {
      "cell_type": "code",
      "metadata": {
        "id": "b-GPveKCnRWf"
      },
      "source": [
        "#查看数据情况\n",
        "# train.info()\n",
        "# test.info()"
      ],
      "execution_count": 6,
      "outputs": []
    },
    {
      "cell_type": "code",
      "metadata": {
        "id": "qTlJ5T-InRWf"
      },
      "source": [
        "#类别列\n",
        "cat_cols = ['BusinessTravel',\n",
        "            'Department',\n",
        "            'DistanceFromHome',          \n",
        "            'Education',\n",
        "            'EducationField', \n",
        "            'EnvironmentSatisfaction',\n",
        "            'Gender',\n",
        "            'JobInvolvement',\n",
        "            'JobLevel',\n",
        "            'JobRole',\n",
        "            'JobSatisfaction',\n",
        "            'MaritalStatus',           \n",
        "            'OverTime',            \n",
        "            'PerformanceRating',\n",
        "            'RelationshipSatisfaction',\n",
        "            'StockOptionLevel',\n",
        "            'TrainingTimesLastYear',\n",
        "            'WorkLifeBalance',\n",
        "            'NumCompaniesWorked',\n",
        "            'YearsInCurrentRole'    \n",
        "            ]"
      ],
      "execution_count": 7,
      "outputs": []
    },
    {
      "cell_type": "code",
      "metadata": {
        "id": "Gg5TIiVPnRWf"
      },
      "source": [
        "#数值列\n",
        "digital_col = ['Age',\n",
        "                'DailyRate',          \n",
        "                'HourlyRate',\n",
        "                 'MonthlyIncome',\n",
        "                  'MonthlyRate',           \n",
        "                    'PercentSalaryHike',          \n",
        "               'TotalWorkingYears',\n",
        "                  'YearsAtCompany', \n",
        "              'YearsSinceLastPromotion',\n",
        "                  'YearsWithCurrManager'    \n",
        "               ]"
      ],
      "execution_count": 8,
      "outputs": []
    },
    {
      "cell_type": "code",
      "metadata": {
        "colab": {
          "base_uri": "https://localhost:8080/"
        },
        "id": "cb6KDIlxnRWg",
        "outputId": "6b73198c-dbe3-46e2-c88c-d92920ba5efc"
      },
      "source": [
        "#使用catboost训练\n",
        "# !pip install catboost\n",
        "from catboost import CatBoostClassifier,Pool\n",
        "\n",
        "labels = train['Attrition']\n",
        "features = train.drop(['Attrition'],axis =1)\n",
        "#划分数据集\n",
        "X_train,X_valid,y_train,y_valid = train_test_split(features,labels,test_size = 0.2,random_state = 9)\n",
        "#训练数据\n",
        "train_data = Pool(data = X_train,\n",
        "                 label = y_train,\n",
        "                 cat_features = cat_cols)\n",
        "#构建模型\n",
        "clf = CatBoostClassifier(depth =10,\n",
        "                         loss_function = 'Logloss',\n",
        "                        bootstrap_type= 'Bernoulli',\n",
        "                        subsample = 0.8,\n",
        "                        learning_rate = 0.01,\n",
        "                        l2_leaf_reg=6,\n",
        "                        iterations = 1400,                     \n",
        "                        rsm =0.8,\n",
        "                        od_type = 'Iter',\n",
        "                        od_wait =200,\n",
        "                        metric_period =200,\n",
        "                        thread_count = 10,\n",
        "                        random_seed =9,\n",
        "                        one_hot_max_size =30,\n",
        "                        eval_metric = 'AUC:hints=skip_train~false',\n",
        "                        custom_metric = 'AUC',\n",
        "                        #scale_pos_weight = 3,\n",
        "                         #grow_policy = 'Lossguide'\n",
        "                        )\n",
        "#模型训练\n",
        "clf.fit(train_data,eval_set =(X_valid,y_valid))\n",
        "#预测\n",
        "y_hat = clf.predict_proba(X_valid)[:,1]\n",
        "\n",
        "print('预测auc',roc_auc_score(list(y_valid),y_hat))"
      ],
      "execution_count": 9,
      "outputs": [
        {
          "output_type": "stream",
          "text": [
            "Warning: Overfitting detector is active, thus evaluation metric is calculated on every iteration. 'metric_period' is ignored for evaluation metric.\n"
          ],
          "name": "stderr"
        },
        {
          "output_type": "stream",
          "text": [
            "0:\tlearn: 0.6688456\ttest: 0.6104440\tbest: 0.6104440 (0)\ttotal: 53.4ms\tremaining: 1m 14s\n",
            "200:\tlearn: 0.9964657\ttest: 0.8308943\tbest: 0.8335210 (177)\ttotal: 3.08s\tremaining: 18.4s\n",
            "400:\tlearn: 0.9999400\ttest: 0.8388993\tbest: 0.8393996 (397)\ttotal: 6.23s\tremaining: 15.5s\n",
            "600:\tlearn: 1.0000000\ttest: 0.8421513\tbest: 0.8421513 (599)\ttotal: 9.31s\tremaining: 12.4s\n",
            "800:\tlearn: 1.0000000\ttest: 0.8387742\tbest: 0.8422764 (602)\ttotal: 12.5s\tremaining: 9.32s\n",
            "Stopped by overfitting detector  (200 iterations wait)\n",
            "\n",
            "bestTest = 0.8422764228\n",
            "bestIteration = 602\n",
            "\n",
            "Shrink model to first 603 iterations.\n",
            "预测auc 0.8422764227642277\n"
          ],
          "name": "stdout"
        }
      ]
    },
    {
      "cell_type": "code",
      "metadata": {
        "id": "utDG6PsDnRWg"
      },
      "source": [
        "#将预测结果作为下一步训练的特征\n",
        "new_train_feature = clf.predict_proba(features)[:,1].reshape(-1,1)\n",
        "new_test_feature = clf.predict_proba(test)[:,1].reshape(-1,1)"
      ],
      "execution_count": 10,
      "outputs": []
    },
    {
      "cell_type": "code",
      "metadata": {
        "colab": {
          "base_uri": "https://localhost:8080/"
        },
        "id": "eUV9dft8nRWg",
        "outputId": "aed6f153-55b3-443c-9e2b-4ad3066f9b0e"
      },
      "source": [
        "#print(new_test_feature)\n",
        "print(new_train_feature.shape)"
      ],
      "execution_count": 11,
      "outputs": [
        {
          "output_type": "stream",
          "text": [
            "(1176, 1)\n"
          ],
          "name": "stdout"
        }
      ]
    },
    {
      "cell_type": "code",
      "metadata": {
        "id": "Q4oJyD_UnRWg"
      },
      "source": [
        "# 对分类特征进行编码\n",
        "from sklearn.preprocessing import LabelEncoder,OneHotEncoder\n",
        "\n",
        "train_cat,test_cat = None,None\n",
        "for feature in cat_cols:\n",
        "    lbe,ohe = LabelEncoder(),OneHotEncoder()    \n",
        "    \n",
        "    lbe.fit(pd.concat([train[feature],test[feature]]).values.reshape(-1,1))\n",
        "    train[feature] = lbe.transform(train[feature])\n",
        "    test[feature] = lbe.transform(test[feature]) \n",
        "    \n",
        "    #print(type(pd.concat([train[feature],test[feature]]).values.reshape(-1,1)))  \n",
        "    \n",
        "    ohe.fit(pd.concat([train[feature],test[feature]]).values.reshape(-1,1))\n",
        "      \n",
        "#     train = train.join(pd.get_dummies(train[feature],prefix = feature)).drop([feature],axis =1)\n",
        "#     test = test.join(pd.get_dummies(test[feature],prefix = feature)).drop([feature],axis =1)\n",
        "    oht_train = ohe.transform(train[feature].values.reshape(-1,1)).todense()\n",
        "    oht_test = ohe.transform(test[feature].values.reshape(-1,1)).todense()\n",
        "    \n",
        "    if train_cat is None:\n",
        "        train_cat = oht_train\n",
        "        test_cat = oht_test\n",
        "    else:\n",
        "        train_cat = np.hstack((train_cat,oht_train))\n",
        "        test_cat = np.hstack((test_cat,oht_test))    \n",
        "\n",
        "# train.info()\n",
        "# train.head()"
      ],
      "execution_count": 13,
      "outputs": []
    },
    {
      "cell_type": "code",
      "metadata": {
        "id": "sHUOgZY3nRWh"
      },
      "source": [
        "#对数字类特征进行规范化\n",
        "from sklearn.preprocessing import MinMaxScaler\n",
        "\n",
        "scaler = MinMaxScaler()\n",
        "train_digital = pd.DataFrame(scaler.fit_transform(train[digital_col]),columns = digital_col)\n",
        "test_digital = pd.DataFrame(scaler.transform(test[digital_col]),columns=digital_col)\n",
        "\n",
        "label = train['Attrition']\n",
        "train = pd.DataFrame(np.hstack((train_digital,train_cat)))\n",
        "test = pd.DataFrame(np.hstack((test_digital,test_cat)))\n",
        "# train.info()"
      ],
      "execution_count": 14,
      "outputs": []
    },
    {
      "cell_type": "code",
      "metadata": {
        "id": "57xxOz7zFmkQ"
      },
      "source": [
        "#切分数据集\n",
        "X_train,X_valid,y_train,y_valid = train_test_split(train,label,test_size = 0.2,random_state = 9)"
      ],
      "execution_count": 15,
      "outputs": []
    },
    {
      "cell_type": "code",
      "metadata": {
        "id": "aUyrws3ynRWh"
      },
      "source": [
        "#使用xgboost训练\n",
        "import xgboost as xgb\n",
        "from xgboost import XGBClassifier"
      ],
      "execution_count": 16,
      "outputs": []
    },
    {
      "cell_type": "code",
      "metadata": {
        "id": "Fz2oRZmKnRWh"
      },
      "source": [
        "param_xgb = {'booster':'gbtree',\n",
        "        'objective':'binary:logistic',\n",
        "        'eval_metric':'auc',\n",
        "        'eta':0.01,\n",
        "        'max_depth':6,\n",
        "        'colsample_bytree':0.8,\n",
        "        'colsample_bylevel':0.8, \n",
        "         'subsample':0.8,\n",
        "         'alpha':0.6,\n",
        "        'lambda':0,\n",
        "         'min_child_weight':1,\n",
        "         'gamma':0,\n",
        "         'tree_method':'exact',\n",
        "         #'scale_pos_weight':0.18         \n",
        "        }"
      ],
      "execution_count": 17,
      "outputs": []
    },
    {
      "cell_type": "code",
      "metadata": {
        "colab": {
          "base_uri": "https://localhost:8080/"
        },
        "id": "LNbe3GcSnRWh",
        "outputId": "3f522050-cbae-44e1-beee-507ddd0973f4"
      },
      "source": [
        "train_data = xgb.DMatrix(X_train,label = y_train)\n",
        "valid_data = xgb.DMatrix(X_valid,label = y_valid)\n",
        "test_data = xgb.DMatrix(test)\n",
        "\n",
        "model_xgb = xgb.train(param_xgb,\n",
        "            train_data,evals = [(train_data,'train'),(valid_data,'valid')],\n",
        "            num_boost_round = 10000,\n",
        "            early_stopping_rounds = 200,\n",
        "            verbose_eval=200)\n"
      ],
      "execution_count": 18,
      "outputs": [
        {
          "output_type": "stream",
          "text": [
            "[0]\ttrain-auc:0.832686\tvalid-auc:0.70763\n",
            "Multiple eval metrics have been passed: 'valid-auc' will be used for early stopping.\n",
            "\n",
            "Will train until valid-auc hasn't improved in 200 rounds.\n",
            "[200]\ttrain-auc:0.987158\tvalid-auc:0.794246\n",
            "[400]\ttrain-auc:0.998799\tvalid-auc:0.818637\n",
            "[600]\ttrain-auc:0.99994\tvalid-auc:0.825266\n",
            "[800]\ttrain-auc:1\tvalid-auc:0.828018\n",
            "[1000]\ttrain-auc:1\tvalid-auc:0.831895\n",
            "[1200]\ttrain-auc:1\tvalid-auc:0.832395\n",
            "[1400]\ttrain-auc:1\tvalid-auc:0.833521\n",
            "[1600]\ttrain-auc:1\tvalid-auc:0.83252\n",
            "Stopping. Best iteration:\n",
            "[1467]\ttrain-auc:1\tvalid-auc:0.834146\n",
            "\n"
          ],
          "name": "stdout"
        }
      ]
    },
    {
      "cell_type": "code",
      "metadata": {
        "id": "m94W4Rq8nRWh"
      },
      "source": [
        "#将xgboost的输出作为下一步训练的输入\n",
        "xgb_data = xgb.DMatrix(train)\n",
        "new_train_feature = np.hstack((new_train_feature,model_xgb.predict(xgb_data).reshape(-1,1)))\n",
        "new_test_feature =  np.hstack((new_test_feature,model_xgb.predict(test_data).reshape(-1,1)))"
      ],
      "execution_count": 19,
      "outputs": []
    },
    {
      "cell_type": "code",
      "metadata": {
        "id": "0uNczMDKnRWh"
      },
      "source": [
        "# print(new_test_feature)"
      ],
      "execution_count": 20,
      "outputs": []
    },
    {
      "cell_type": "code",
      "metadata": {
        "colab": {
          "base_uri": "https://localhost:8080/"
        },
        "id": "lQ0zzlRWnRWi",
        "outputId": "2c44d151-c868-4131-b14d-9074b71cb6d0"
      },
      "source": [
        "#使用GBDT进行训练\n",
        "from sklearn.ensemble import GradientBoostingClassifier\n",
        "\n",
        "gbdt = GradientBoostingClassifier(#loss='exponential',\n",
        "    learning_rate=0.02,\n",
        "    n_estimators=1000,\n",
        "    subsample=0.7,\n",
        "    criterion='friedman_mse',\n",
        "    min_samples_split=2,\n",
        "    min_samples_leaf=1,\n",
        "    min_weight_fraction_leaf=0.0,\n",
        "    max_depth=3,\n",
        "    min_impurity_decrease=0.0,\n",
        "    min_impurity_split=None,\n",
        "    init=None,\n",
        "    random_state=10,\n",
        "    max_features=None,\n",
        "    verbose=0,\n",
        "    max_leaf_nodes=None,\n",
        "    warm_start=False,\n",
        "    presort='deprecated',\n",
        "    validation_fraction=0.1,\n",
        "    n_iter_no_change=None,\n",
        "    tol=0.0001,\n",
        "    ccp_alpha=0,)\n",
        "gbdt.fit(X_train,y_train)\n",
        "\n",
        "gbdt_valid = gbdt.predict_proba(X_valid)[:,1]\n",
        "print('预测auc',roc_auc_score(list(y_valid),gbdt_valid))"
      ],
      "execution_count": 21,
      "outputs": [
        {
          "output_type": "stream",
          "text": [
            "预测auc 0.8276422764227642\n"
          ],
          "name": "stdout"
        }
      ]
    },
    {
      "cell_type": "code",
      "metadata": {
        "id": "BpdWI-UFnRWi"
      },
      "source": [
        "#将GBDT的输出作为下一步训练的输入\n",
        "new_train_feature = np.hstack((new_train_feature,gbdt.predict_proba(train)[:,1].reshape(-1,1)))\n",
        "new_test_feature =  np.hstack((new_test_feature,gbdt.predict_proba(test)[:,1].reshape(-1,1)))"
      ],
      "execution_count": 22,
      "outputs": []
    },
    {
      "cell_type": "code",
      "metadata": {
        "colab": {
          "base_uri": "https://localhost:8080/"
        },
        "id": "iis0rHf_IAT8",
        "outputId": "98d63077-d601-4ec6-cf1b-ee1aba300c20"
      },
      "source": [
        "print(train_cat.shape)"
      ],
      "execution_count": 25,
      "outputs": [
        {
          "output_type": "stream",
          "text": [
            "(1176, 129)\n"
          ],
          "name": "stdout"
        }
      ]
    },
    {
      "cell_type": "code",
      "metadata": {
        "colab": {
          "base_uri": "https://localhost:8080/"
        },
        "id": "SIHeuUG0nRWi",
        "outputId": "c21671ce-ae1c-4308-e5d9-00972c39bf72"
      },
      "source": [
        "#使用lightgbm训练\n",
        "import lightgbm as lgb\n",
        "\n",
        "param_lgb = { 'boosting_type':'gbdt',\n",
        "    'num_leaves':15,\n",
        "    'max_depth':4,\n",
        "    'learning_rate':0.01,\n",
        "    'n_estimators':10000,\n",
        "    'subsample_for_bin':200000,\n",
        "    'objective':'binary',\n",
        "    'scale_pos_weight':0.8,\n",
        "    #'min_split_gain':0.0,\n",
        "    #'min_child_weight':0.001,\n",
        "    #'min_child_samples':20,\n",
        "    #'subsample':1.0,\n",
        "    #'subsample_freq':0,\n",
        "    #'colsample_bytree':1.0,\n",
        "    #'reg_alpha':0.0,\n",
        "    #'reg_lambda':0.0,\n",
        "    'random_state':9,\n",
        "    'n_jobs':10,\n",
        "    #'silent':True,\n",
        "    #'importance_type':'split', \n",
        "    'metric':'auc',\n",
        "    'feature_fraction':0.9,\n",
        "    'bagging_fraction':0.8,\n",
        "    'bagging_freq':8,\n",
        "    'lambda_l1':0.5,\n",
        "    'lambda_l2':0.1\n",
        "        }\n",
        "train_data = lgb.Dataset(X_train,label = y_train)\n",
        "valid_data = lgb.Dataset(X_valid,label = y_valid)\n",
        "\n",
        "# lgb_data = lgb.Dataset(train)\n",
        "# test_data = lgb.Dataset(test)\n",
        "\n",
        "\n",
        "lgb = lgb.train(param_lgb,\n",
        "         train_data,\n",
        "        valid_sets = [train_data,valid_data],\n",
        "        num_boost_round = 10000,\n",
        "        early_stopping_rounds =200,\n",
        "        verbose_eval =200,\n",
        "        # categorical_feature = pd.DataFrame(train_cat).columns\n",
        "        )\n"
      ],
      "execution_count": 26,
      "outputs": [
        {
          "output_type": "stream",
          "text": [
            "Training until validation scores don't improve for 200 rounds.\n",
            "[200]\ttraining's auc: 0.934598\tvalid_1's auc: 0.787367\n",
            "[400]\ttraining's auc: 0.966115\tvalid_1's auc: 0.812383\n",
            "[600]\ttraining's auc: 0.979369\tvalid_1's auc: 0.815635\n",
            "[800]\ttraining's auc: 0.990735\tvalid_1's auc: 0.82339\n",
            "[1000]\ttraining's auc: 0.996757\tvalid_1's auc: 0.822639\n",
            "[1200]\ttraining's auc: 0.998696\tvalid_1's auc: 0.829518\n",
            "Early stopping, best iteration is:\n",
            "[1160]\ttraining's auc: 0.998379\tvalid_1's auc: 0.831144\n"
          ],
          "name": "stdout"
        }
      ]
    },
    {
      "cell_type": "code",
      "metadata": {
        "id": "VPaUCTGanRWi"
      },
      "source": [
        "#将lightgbm的输出作为下一步训练的输入\n",
        "new_train_feature = np.hstack((new_train_feature,lgb.predict(train).reshape(-1,1)))\n",
        "new_test_feature =  np.hstack((new_test_feature,lgb.predict(test).reshape(-1,1)))"
      ],
      "execution_count": 27,
      "outputs": []
    },
    {
      "cell_type": "code",
      "metadata": {
        "colab": {
          "base_uri": "https://localhost:8080/"
        },
        "id": "5g2nhhplnRWi",
        "outputId": "635c3096-5590-485d-a1ef-0255e4658b7c"
      },
      "source": [
        "#使用svm预测\n",
        "from sklearn.svm import SVC\n",
        "\n",
        "svc = SVC(decision_function_shape = 'ovr',\n",
        "          C=0.7,\n",
        "          kernel = 'rbf',\n",
        "          #degree = 2,\n",
        "          coef0 = 0.8,\n",
        "         gamma = 'auto',\n",
        "         max_iter = 148888,\n",
        "         random_state = 33,\n",
        "         verbose = True,\n",
        "         tol = 1e-5,\n",
        "         cache_size = 50000,\n",
        "         probability = True,\n",
        "         class_weight = 'balanced'\n",
        "         )\n",
        "\n",
        "svc.fit(X_train,y_train)\n",
        "\n",
        "svc_valid = svc.predict_proba(X_valid)[:,1]\n",
        "#print(svc_valid)\n",
        "print('预测auc',roc_auc_score(list(y_valid),svc_valid))\n"
      ],
      "execution_count": 28,
      "outputs": [
        {
          "output_type": "stream",
          "text": [
            "[LibSVM]预测auc 0.8197623514696686\n"
          ],
          "name": "stdout"
        }
      ]
    },
    {
      "cell_type": "code",
      "metadata": {
        "id": "8bh1aAqMnRWj"
      },
      "source": [
        "#将svc的预测结果作为下一步训练的特征\n",
        "new_train_feature = np.hstack((new_train_feature,svc.predict_proba(train)[:,1].reshape(-1,1)))\n",
        "new_test_feature =  np.hstack((new_test_feature,svc.predict_proba(test)[:,1].reshape(-1,1)))"
      ],
      "execution_count": 29,
      "outputs": []
    },
    {
      "cell_type": "code",
      "metadata": {
        "colab": {
          "base_uri": "https://localhost:8080/"
        },
        "id": "kN9gYrHLnRWj",
        "outputId": "e399ad43-851e-4a52-fc44-614c8bb23f4f"
      },
      "source": [
        "#使用KNN进行预测\n",
        "from sklearn.neighbors import KNeighborsClassifier\n",
        "\n",
        "knn = KNeighborsClassifier(n_neighbors = 9)\n",
        "\n",
        "knn.fit(X_train,y_train)\n",
        "\n",
        "knn_valid = knn.predict_proba(X_valid)[:,1]\n",
        "print('预测auc:',roc_auc_score(list(y_valid),knn_valid))"
      ],
      "execution_count": 30,
      "outputs": [
        {
          "output_type": "stream",
          "text": [
            "预测auc: 0.7502188868042527\n"
          ],
          "name": "stdout"
        }
      ]
    },
    {
      "cell_type": "code",
      "metadata": {
        "colab": {
          "base_uri": "https://localhost:8080/"
        },
        "id": "bZPNEJUBnRWj",
        "outputId": "bd554166-cdc6-48f4-cdc2-1e1e0058cca4"
      },
      "source": [
        "#使用朴素贝叶斯预测\n",
        "from sklearn.naive_bayes import BernoulliNB\n",
        "\n",
        "nb = BernoulliNB(alpha = 17, fit_prior = True,binarize =0.38)\n",
        "\n",
        "nb.fit(X_train,y_train)\n",
        "\n",
        "nb_valid = nb.predict_proba(X_valid)[:,1]\n",
        "print('预测auc:',roc_auc_score(list(y_valid),nb_valid))"
      ],
      "execution_count": 31,
      "outputs": [
        {
          "output_type": "stream",
          "text": [
            "预测auc: 0.8381488430268919\n"
          ],
          "name": "stdout"
        }
      ]
    },
    {
      "cell_type": "code",
      "metadata": {
        "id": "eDBLSFgbnRWj"
      },
      "source": [
        "#将朴素贝叶斯的输出作为下一步训练的特征\n",
        "new_train_feature = np.hstack((new_train_feature,nb.predict_proba(train)[:,1].reshape(-1,1)))\n",
        "new_test_feature =  np.hstack((new_test_feature,nb.predict_proba(test)[:,1].reshape(-1,1)))"
      ],
      "execution_count": 32,
      "outputs": []
    },
    {
      "cell_type": "code",
      "metadata": {
        "colab": {
          "base_uri": "https://localhost:8080/"
        },
        "id": "4mJ1R5RmnRWk",
        "outputId": "49bab9b0-ddd9-4c5a-f4e7-96c3f816b740"
      },
      "source": [
        "#使用Adaboost训练\n",
        "from sklearn.ensemble import AdaBoostClassifier\n",
        "\n",
        "ada = AdaBoostClassifier(n_estimators =98,\n",
        "                        learning_rate = 0.2,\n",
        "                        algorithm = 'SAMME.R',\n",
        "                        random_state =1)\n",
        "\n",
        "ada.fit(X_train,y_train)\n",
        "\n",
        "ada_valid = ada.predict_proba(X_valid)[:,1]\n",
        "print('预测auc:',roc_auc_score(list(y_valid),ada_valid))"
      ],
      "execution_count": 33,
      "outputs": [
        {
          "output_type": "stream",
          "text": [
            "预测auc: 0.8327704815509693\n"
          ],
          "name": "stdout"
        }
      ]
    },
    {
      "cell_type": "code",
      "metadata": {
        "id": "tP4MdFHxnRWk"
      },
      "source": [
        "#将Adaboost的输出作为下一步训练的特征\n",
        "new_train_feature = np.hstack((new_train_feature,ada.predict_proba(train)[:,1].reshape(-1,1)))\n",
        "new_test_feature =  np.hstack((new_test_feature,ada.predict_proba(test)[:,1].reshape(-1,1)))"
      ],
      "execution_count": 34,
      "outputs": []
    },
    {
      "cell_type": "code",
      "metadata": {
        "colab": {
          "base_uri": "https://localhost:8080/"
        },
        "id": "14itdMq5nRWk",
        "outputId": "c58af4ed-a2ef-41a5-9144-3f32d945ed69"
      },
      "source": [
        "#使用随机森林进行训练\n",
        "from sklearn.ensemble import RandomForestClassifier\n",
        "\n",
        "rf = RandomForestClassifier(criterion = 'gini',\n",
        "                           n_estimators = 99,\n",
        "                           max_depth =11,\n",
        "                           min_samples_split = 6,\n",
        "                           min_samples_leaf = 1,\n",
        "                           max_features = 'auto',\n",
        "                           oob_score = True,\n",
        "                           random_state = 1,\n",
        "                           class_weight = 'balanced_subsample')\n",
        "rf.fit(X_train,y_train)\n",
        "\n",
        "rf_valid = rf.predict_proba(X_valid)[:,1]\n",
        "print('预测auc:',roc_auc_score(list(y_valid),rf_valid))"
      ],
      "execution_count": 35,
      "outputs": [
        {
          "output_type": "stream",
          "text": [
            "预测auc: 0.8142589118198874\n"
          ],
          "name": "stdout"
        }
      ]
    },
    {
      "cell_type": "code",
      "metadata": {
        "id": "BXjDSX8TnRWk"
      },
      "source": [
        "#将随机森林的输出作为下一步训练的特征\n",
        "new_train_feature = np.hstack((new_train_feature,rf.predict_proba(train)[:,1].reshape(-1,1)))\n",
        "new_test_feature =  np.hstack((new_test_feature,rf.predict_proba(test)[:,1].reshape(-1,1)))"
      ],
      "execution_count": 36,
      "outputs": []
    },
    {
      "cell_type": "code",
      "metadata": {
        "colab": {
          "base_uri": "https://localhost:8080/"
        },
        "id": "Qbv5xRw-nRWk",
        "outputId": "aad75aeb-20be-4e0b-e1d0-088f00f78c33"
      },
      "source": [
        "#查看训练数据情况\n",
        "print(type(new_train_feature))\n",
        "print(new_train_feature.shape)\n",
        "print(new_train_feature)"
      ],
      "execution_count": 37,
      "outputs": [
        {
          "output_type": "stream",
          "text": [
            "<class 'numpy.ndarray'>\n",
            "(1176, 8)\n",
            "[[5.10374092e-02 1.05480012e-02 1.31622970e-02 ... 1.01859569e-03\n",
            "  4.32903114e-01 1.02231174e-01]\n",
            " [2.47078596e-02 6.97884196e-03 7.73743298e-03 ... 1.92954868e-04\n",
            "  4.57661850e-01 8.73663085e-02]\n",
            " [6.20154293e-02 4.59669195e-02 5.28928711e-02 ... 3.27380754e-04\n",
            "  4.64740365e-01 2.12177422e-01]\n",
            " ...\n",
            " [4.10868075e-02 7.46613555e-03 1.32504845e-02 ... 1.57277611e-04\n",
            "  4.66636238e-01 8.22206684e-02]\n",
            " [1.12883712e-01 8.46080706e-02 1.72501948e-01 ... 2.32112551e-02\n",
            "  4.86349671e-01 3.53981019e-01]\n",
            " [2.03773226e-01 6.32306337e-01 5.20117939e-01 ... 2.59042409e-03\n",
            "  4.85085323e-01 3.62678294e-01]]\n"
          ],
          "name": "stdout"
        }
      ]
    },
    {
      "cell_type": "code",
      "metadata": {
        "colab": {
          "base_uri": "https://localhost:8080/"
        },
        "id": "1X0xeNfRnRWk",
        "outputId": "be838b2f-532f-4018-b025-89ff331cf23b"
      },
      "source": [
        "#使用LR模型作为stack输出\n",
        "from sklearn.linear_model import LogisticRegression\n",
        "\n",
        "lr = LogisticRegression(class_weight = 'balanced',tol=1e-5,C=7)\n",
        "X = pd.DataFrame(new_train_feature)\n",
        "y = label\n",
        "\n",
        "X_train,X_valid,y_train,y_valid = train_test_split(X,y,test_size = 0.2,random_state = 42)\n",
        "\n",
        "lr.fit(X_train,y_train)\n",
        "lr_valid = lr.predict_proba(X_valid)[:,1]\n",
        "print('预测auc',roc_auc_score(list(y_valid),lr_valid))"
      ],
      "execution_count": 38,
      "outputs": [
        {
          "output_type": "stream",
          "text": [
            "预测auc 0.9840663538142529\n"
          ],
          "name": "stdout"
        }
      ]
    },
    {
      "cell_type": "code",
      "metadata": {
        "colab": {
          "base_uri": "https://localhost:8080/"
        },
        "id": "9t2sSFcinRWl",
        "outputId": "05f955ff-5d65-4223-9778-cfc6a9f76774"
      },
      "source": [
        "#生成提交数据\n",
        "test_data = pd.DataFrame(new_test_feature)\n",
        "y_hat = lr.predict_proba(test_data)[:,1]\n",
        "predict = [round(x,4) for x in y_hat]\n",
        "# print(predict)\n",
        "submit2['Attrition'] = predict\n",
        "submit2.to_csv('submission.csv', index=False)"
      ],
      "execution_count": 39,
      "outputs": [
        {
          "output_type": "stream",
          "text": [
            "[0.0751, 0.0445, 0.2131, 0.0728, 0.9999, 0.6788, 0.6391, 0.1113, 0.062, 0.1883, 0.06, 0.1256, 0.0879, 0.999, 0.0404, 0.0405, 0.0777, 0.0766, 0.0761, 0.0897, 0.9898, 0.0578, 0.0483, 0.0721, 0.2738, 0.9085, 0.0493, 0.0411, 0.9993, 0.0705, 0.0485, 0.1178, 0.131, 0.0763, 0.0773, 0.0587, 0.0539, 0.1032, 0.0499, 0.0932, 0.06, 0.0673, 0.0568, 0.0829, 0.0801, 0.9988, 0.1058, 0.037, 0.9979, 0.8181, 0.3345, 0.9517, 0.131, 0.0748, 0.9978, 0.151, 0.0503, 0.0698, 0.043, 0.9422, 0.0774, 0.1375, 0.0975, 0.0728, 0.8863, 0.1158, 0.1276, 0.0777, 0.0567, 0.2619, 0.0488, 0.2331, 0.0856, 0.055, 0.0553, 0.0607, 0.0706, 0.0736, 0.9544, 0.0452, 0.0447, 0.0599, 0.0884, 0.1269, 0.0832, 0.061, 0.0488, 0.3301, 0.0943, 0.0592, 0.9459, 0.0465, 0.1075, 0.9181, 0.0474, 0.0949, 0.1001, 0.9678, 0.0596, 0.0861, 0.2475, 0.1392, 0.8938, 0.0597, 0.058, 0.0515, 0.0742, 0.9692, 0.1095, 0.1424, 0.2141, 0.2323, 0.0559, 0.0663, 0.0828, 0.1593, 0.0492, 0.2466, 0.0492, 0.0354, 0.0563, 0.0442, 0.0502, 0.9972, 0.579, 0.0602, 0.0413, 0.0665, 0.1154, 0.049, 0.0354, 0.9017, 0.9314, 0.3559, 0.0822, 0.6826, 0.9276, 0.0742, 0.3888, 0.1279, 0.0551, 0.0862, 0.0632, 0.092, 0.3098, 0.0556, 0.1037, 0.0478, 0.0775, 0.0704, 0.0642, 0.1711, 0.0707, 0.6561, 0.1249, 0.0647, 0.0489, 0.6348, 0.1343, 0.0625, 0.2606, 0.0428, 0.1374, 0.9999, 0.0524, 0.1288, 0.8372, 0.0436, 0.0586, 0.0364, 0.0505, 0.0537, 0.0786, 0.177, 0.0466, 0.5148, 0.0672, 0.3907, 0.1875, 0.1089, 0.0475, 0.0611, 0.0349, 0.9875, 0.0539, 0.056, 0.5388, 0.0735, 0.1944, 0.5038, 0.2955, 0.9972, 0.3129, 0.0682, 0.091, 0.0837, 0.0823, 0.059, 0.9633, 0.0704, 0.4606, 0.1445, 0.6034, 0.0466, 0.1115, 0.0763, 0.7662, 0.04, 0.1083, 0.0367, 0.0398, 0.1233, 0.0434, 0.2146, 0.0573, 0.0636, 0.0458, 0.2204, 0.0485, 0.8638, 0.0555, 0.9074, 0.7302, 0.1501, 0.2895, 0.0498, 0.1226, 0.2221, 0.9986, 0.0828, 0.0358, 0.215, 0.0627, 0.0653, 0.0534, 0.9345, 0.1882, 0.0391, 0.0909, 0.0417, 0.6412, 0.0988, 0.0612, 0.0883, 0.1985, 0.0689, 0.0774, 0.4118, 0.0786, 0.1533, 0.1692, 0.2826, 0.3448, 0.0631, 0.3569, 0.0972, 0.0384, 0.9984, 0.0789, 0.788, 0.1827, 0.0606, 0.2254, 0.0747, 0.0735, 0.6142, 0.0522, 0.7114, 0.1278, 0.047, 0.1147, 0.0496, 0.066, 0.0446, 0.0604, 0.056, 0.1704, 0.5053, 0.0624, 0.324, 0.2668, 0.0561, 0.0926, 0.0617, 0.138, 0.4136, 0.0325, 0.1051, 0.0706, 0.0971, 0.0955, 0.9679, 0.0687, 0.0818]\n"
          ],
          "name": "stdout"
        }
      ]
    }
  ]
}